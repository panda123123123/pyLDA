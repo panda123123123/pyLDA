{
 "cells": [
  {
   "cell_type": "code",
   "execution_count": 1,
   "id": "6da131ed-4608-40d5-a1f1-b00976188be4",
   "metadata": {},
   "outputs": [],
   "source": [
    "#用到的包\n",
    "import numpy as np\n",
    "import pandas as pd\n",
    "import re\n",
    "from gensim import corpora, models, similarities\n",
    "import gensim\n",
    "import pyLDAvis.gensim_models\n",
    "import math\n",
    "import matplotlib.pyplot as plt"
   ]
  },
  {
   "cell_type": "code",
   "execution_count": 2,
   "id": "3ffb4735-55e6-412a-95c1-f2ce2a2e3a33",
   "metadata": {},
   "outputs": [],
   "source": [
    "\"\"\"第一步：用正则表达式清洗数据，并去除停用词\"\"\"\n",
    "data=pd.read_csv(r\"C:\\Users\\123\\LDA\\HillaryEmails.csv\",encoding='ISO-8859-1')\n",
    "# 原邮件数据中有很多Nan的值，直接扔了。\n",
    "data=data[['Id','ExtractedBodyText']].dropna()  #只选取 Id和 ExtractedBodyText两列 去除空值 #只选取 Id和 ExtractedBodyText两列 去除空值"
   ]
  },
  {
   "cell_type": "code",
   "execution_count": 3,
   "id": "1e49bb44-e81b-404f-bdec-980f044ffcc7",
   "metadata": {},
   "outputs": [],
   "source": [
    "# 用正则表达式清洗数据\n",
    "\n",
    "def clean_email_text(text):\n",
    "    text= text.replace('\\n',\" \") #用空格代替新的行\n",
    "    text=re.sub(r\"-\",\" \",text)  #把用“-”连接的单词分开 （close-up分成close和 up）\n",
    "    text=re.sub(r\"\\d+\\d+\\d+\",\"\",text) #删除日期\n",
    "    text=re.sub(r\"[0-2]?[1-9]:[0-6][0-9]\",\"\",text)  #删除时间\n",
    "    text=re.sub(r\"[\\w]+@[\\.\\w]+\",\"\",text)  #删除邮件地址\n",
    "    text=re.sub(r\"/[a-zA-Z]*[:\\//\\]*[A-Za-z0-9\\-]+\\.+[A-Za-z0-9\\.\\/%&=\\?\\-_]+/i\",\"\",text) #删除网址\n",
    "    \n",
    "    # 以防还有其他除了单词以外的特殊字符（数字）等等，我们把特殊字符过滤掉\n",
    "    # 只留下字母和空格\n",
    "    # 再把单个字母去掉，留下单词\n",
    "    pure_text=''\n",
    "    for letter in text:        #去除字母和空格\n",
    "        if letter.isalpha() or letter==' ':\n",
    "            pure_text+=letter\n",
    "            \n",
    "    text=' '.join(word for word in pure_text.split() if len(word)>1)\n",
    "    return text"
   ]
  },
  {
   "cell_type": "code",
   "execution_count": 4,
   "id": "6504431a-1be5-49c0-84da-25a050abc6fe",
   "metadata": {},
   "outputs": [
    {
     "name": "stdout",
     "output_type": "stream",
     "text": [
      "1       B6\\nThursday, March 3, 2011 9:45 PM\\nH: Latest...\n",
      "2                                                     Thx\n",
      "4       H <hrod17@clintonemail.com>\\nFriday, March 11,...\n",
      "5       Pis print.\\n-â¢-...-^\\nH < hrod17@clintonerna...\n",
      "7       H <hrod17@clintonemail.corn>\\nFriday, March 11...\n",
      "                              ...                        \n",
      "7938    Hi. Sorry I haven't had a chance to see you, b...\n",
      "7939    B6\\nI assume you saw this by now -- if not, it...\n",
      "7941    Big change of plans in the Senate. Senator Rei...\n",
      "7943    PVerveer B6\\nFriday, December 17, 2010 12:12 A...\n",
      "7944                                           See below.\n",
      "Name: ExtractedBodyText, Length: 6742, dtype: object\n"
     ]
    },
    {
     "data": {
      "text/plain": [
       "array(['Thursday March PM Latest How Syria is aiding Qaddafi and more Sid hrc memo syria aiding libya docx hrc memo syria aiding libya docx March For Hillary',\n",
       "       'Thx',\n",
       "       'Friday March PM Huma Abedin Fw Latest How Syria is aiding Qaddafi and more Sid hrc memo syria aiding libya docx Pis print',\n",
       "       'Pis print Wednesday September PM Fw Meet The Right Wing Extremist Behind Anti fvluslim Film That Sparked Deadly Riots From meat Sent Wednesday September PM To Subject Meet The Right Wing Extremist Behind Anti Muslim Film That Sparked Deadly Riots httemaxbiumenthalcommeet the right wing extremist behind anti musiim tihn that sparked deadly riots Sent from my Verizon Wireless LTE DROID US Department of State Case No Doc No Date STATE DEPT PRODUCED TO HOUSE SELECT BENGHAZI COMM SUBJECT TO AGREEMENT ON SENSITIVE INFORMATION REDACTIONS NO FOIA WAIVER STATE CB',\n",
       "       'Friday March PM Huma Abedin Fw Latest How Syria is aiding Qaddafi and more Sid hrc memo Syria aiding libya docx Pis print',\n",
       "       'FYI',\n",
       "       'Wednesday September PM Fwd more on libya Libya sept docx Sending direct Just in Sent from my Verizon Wireless LTE DRUID',\n",
       "       'Fyi',\n",
       "       'Wednesday September PM Fwd more on libya Libya sept docx Sending direct Just in Sent from my Verizon Wireless LTE DRUID',\n",
       "       'Fyi'], dtype=object)"
      ]
     },
     "execution_count": 4,
     "metadata": {},
     "output_type": "execute_result"
    }
   ],
   "source": [
    "docs=data['ExtractedBodyText']\n",
    "print(docs)\n",
    "docs=docs.apply(lambda s:clean_email_text(s))\n",
    "docs.head(10).values"
   ]
  },
  {
   "cell_type": "code",
   "execution_count": 5,
   "id": "200ebccc-3e95-4ce9-9149-80ea57536698",
   "metadata": {},
   "outputs": [
    {
     "name": "stdout",
     "output_type": "stream",
     "text": [
      "一共有 6742 封邮件。\n",
      "\n",
      "第一封邮件经过清洗后的内容为: \n",
      " ['Thursday March PM Latest How Syria is aiding Qaddafi and more Sid hrc memo syria aiding libya docx hrc memo syria aiding libya docx March For Hillary'] \n",
      "\n"
     ]
    }
   ],
   "source": [
    "doclist = docs.values#把值都取出来做成一个list\n",
    "print(\"一共有\",len(doclist),\"封邮件。\\n\")\n",
    "print(\"第一封邮件经过清洗后的内容为: \\n\",doclist[:1],'\\n')"
   ]
  },
  {
   "cell_type": "code",
   "execution_count": 6,
   "id": "27a3c17d-a512-4b1e-9d5a-de765c9a624b",
   "metadata": {},
   "outputs": [
    {
     "name": "stdout",
     "output_type": "stream",
     "text": [
      "第一封邮件去除停用词并处理成gensim需要的格式为：\n",
      " ['march', 'syria', 'aiding', 'qaddafi', 'sid', 'hrc', 'memo', 'syria', 'aiding', 'libya', 'docx', 'hrc', 'memo', 'syria', 'aiding', 'libya', 'docx', 'march', 'hillary'] \n",
      "\n"
     ]
    }
   ],
   "source": [
    "# 去除停用词，处理成gensim需要的输入格式\n",
    "def remove_stopword():\n",
    "    stopword = []\n",
    "    with open(r'C:\\Users\\123\\LDA\\english.txt', encoding='utf-8') as f:\n",
    "        lines = f.readlines()\n",
    "        for line in lines:\n",
    "            line = line.replace('\\n', '')\n",
    "            stopword.append(line)\n",
    "    return stopword\n",
    "stop_words=remove_stopword()\n",
    "texts=[[word for word in doc.lower().split() if word not in stop_words] for doc in doclist]\n",
    "print(\"第一封邮件去除停用词并处理成gensim需要的格式为：\\n\",texts[0],'\\n')"
   ]
  },
  {
   "cell_type": "code",
   "execution_count": 7,
   "id": "e3e40a62-50d6-4609-a0ba-7f1150c07c5d",
   "metadata": {},
   "outputs": [
    {
     "name": "stdout",
     "output_type": "stream",
     "text": [
      "第一封邮件ID化后的结果为：\n",
      " [(0, 3), (1, 2), (2, 1), (3, 2), (4, 2), (5, 2), (6, 2), (7, 1), (8, 1), (9, 3)] \n",
      "\n"
     ]
    }
   ],
   "source": [
    "\"\"\"第二步：构建字典，将文本ID化\"\"\"\n",
    "dictionary = corpora.Dictionary(texts)\n",
    "corpus = [dictionary.doc2bow(text) for text in texts]\n",
    "# 将每一篇邮件ID化\n",
    "print(\"第一封邮件ID化后的结果为：\\n\",corpus[0],'\\n')"
   ]
  },
  {
   "cell_type": "code",
   "execution_count": 11,
   "id": "f7a3e05e-ef8e-4935-a9d6-68caa0e3afbf",
   "metadata": {},
   "outputs": [],
   "source": [
    "\"\"\"第三步：训练LDA模型\"\"\"\n",
    "#LDA建模\n",
    "LDA=gensim.models.ldamodel.LdaModel(corpus,id2word=dictionary,num_topics=3,random_state=100,\n",
    "                chunksize=1000, passes=50,iterations=500)"
   ]
  },
  {
   "cell_type": "code",
   "execution_count": 12,
   "id": "d2558dd2-3d04-4a31-a759-823c344beb64",
   "metadata": {},
   "outputs": [
    {
     "data": {
      "text/plain": [
       "[(0,\n",
       "  '0.019*\"fyi\" + 0.008*\"cheryl\" + 0.008*\"huma\" + 0.007*\"pls\" + 0.007*\"fw\" + 0.006*\"thx\" + 0.006*\"mills\"'),\n",
       " (1,\n",
       "  '0.029*\"office\" + 0.021*\"secretarys\" + 0.018*\"meeting\" + 0.010*\"arrive\" + 0.010*\"route\" + 0.009*\"depart\" + 0.009*\"house\"'),\n",
       " (2,\n",
       "  '0.006*\"obama\" + 0.005*\"president\" + 0.004*\"government\" + 0.003*\"political\" + 0.003*\"policy\" + 0.003*\"house\" + 0.003*\"support\"')]"
      ]
     },
     "execution_count": 12,
     "metadata": {},
     "output_type": "execute_result"
    }
   ],
   "source": [
    "#指定话题数和每个话题的词数（话题数用后面的困惑度和pyLDAvis来确定）\n",
    "LDA.print_topics(num_topics=3,num_words=7)"
   ]
  },
  {
   "cell_type": "code",
   "execution_count": 10,
   "id": "f967eaa8-f06f-4155-a5d8-cc95f635d3ec",
   "metadata": {},
   "outputs": [
    {
     "data": {
      "text/html": [
       "\n",
       "<link rel=\"stylesheet\" type=\"text/css\" href=\"https://cdn.jsdelivr.net/gh/bmabey/pyLDAvis@3.4.0/pyLDAvis/js/ldavis.v1.0.0.css\">\n",
       "\n",
       "\n",
       "<div id=\"ldavis_el1531222814490842249078909429\" style=\"background-color:white;\"></div>\n",
       "<script type=\"text/javascript\">\n",
       "\n",
       "var ldavis_el1531222814490842249078909429_data = {\"mdsDat\": {\"x\": [0.051239991985049964, -0.20076890292601643, 0.14952891094096638], \"y\": [-0.18710273497764737, 0.05249854502840696, 0.13460418994924048], \"topics\": [1, 2, 3], \"cluster\": [1, 1, 1], \"Freq\": [74.35008875034575, 13.616231091496408, 12.03368015815785]}, \"tinfo\": {\"Term\": [\"office\", \"secretarys\", \"meeting\", \"fyi\", \"house\", \"private\", \"arrive\", \"route\", \"depart\", \"staff\", \"huma\", \"pls\", \"foreign\", \"residence\", \"cheryl\", \"minister\", \"washington\", \"fw\", \"thx\", \"email\", \"agreement\", \"secretary\", \"daily\", \"print\", \"doc\", \"benghazi\", \"press\", \"mills\", \"abedin\", \"white\", \"political\", \"support\", \"israel\", \"war\", \"administration\", \"afghanistan\", \"americans\", \"obamas\", \"health\", \"democrats\", \"country\", \"power\", \"deal\", \"care\", \"campaign\", \"officials\", \"republicans\", \"democratic\", \"countries\", \"change\", \"leader\", \"obama\", \"mcchrystal\", \"politics\", \"months\", \"efforts\", \"reform\", \"conservative\", \"forces\", \"local\", \"government\", \"women\", \"policy\", \"israeli\", \"military\", \"china\", \"peace\", \"economic\", \"leaders\", \"president\", \"republican\", \"clinton\", \"security\", \"foreign\", \"house\", \"national\", \"white\", \"senate\", \"secretary\", \"washington\", \"times\", \"pls\", \"huma\", \"fw\", \"thx\", \"abedin\", \"cdm\", \"pis\", \"wjc\", \"lauren\", \"richards\", \"dkna\", \"declassify\", \"preines\", \"jiloty\", \"hrd\", \"valmoro\", \"edits\", \"copying\", \"tot\", \"ind\", \"pir\", \"worn\", \"kurdistan\", \"dem\", \"taab\", \"asap\", \"readout\", \"disapprove\", \"joanne\", \"noon\", \"mills\", \"madame\", \"lona\", \"fyi\", \"unfavorable\", \"cheryl\", \"jacob\", \"blackberry\", \"sullivan\", \"jake\", \"draft\", \"ops\", \"print\", \"email\", \"hikers\", \"schedule\", \"hrc\", \"favorable\", \"happy\", \"add\", \"release\", \"dan\", \"morning\", \"memo\", \"list\", \"message\", \"secretary\", \"hillary\", \"speech\", \"assistant\", \"sid\", \"secretarys\", \"depart\", \"residence\", \"benghazi\", \"doc\", \"dept\", \"comm\", \"waiver\", \"foia\", \"redactions\", \"route\", \"outer\", \"tbd\", \"spray\", \"laguardia\", \"arrive\", \"preceding\", \"scb\", \"latrines\", \"nw\", \"libyan\", \"ingo\", \"cb\", \"postconflict\", \"astoria\", \"waldorf\", \"bilat\", \"wfp\", \"select\", \"tripoli\", \"sri\", \"min\", \"airport\", \"sensitive\", \"office\", \"meeting\", \"bilateral\", \"produced\", \"melanne\", \"private\", \"daily\", \"camera\", \"photo\", \"floor\", \"briefing\", \"staff\", \"house\", \"press\", \"agreement\", \"treaty\", \"minister\", \"washington\", \"foreign\", \"ambassador\", \"white\"], \"Freq\": [916.0, 547.0, 619.0, 602.0, 753.0, 326.0, 256.0, 253.0, 244.0, 342.0, 221.0, 215.0, 539.0, 198.0, 239.0, 363.0, 413.0, 194.0, 178.0, 195.0, 246.0, 566.0, 187.0, 185.0, 156.0, 155.0, 277.0, 179.0, 156.0, 433.0, 525.0071869682419, 503.5324190989326, 447.70402393974916, 345.2904734161692, 334.585268742293, 358.32700746841783, 297.30151184830453, 280.997939947692, 353.79269114173917, 271.43288881446864, 306.9638687206104, 252.55375855918015, 249.8769610284232, 276.62798509559445, 238.6628632601999, 240.1212880459905, 256.56835547443967, 266.5702054210228, 212.94981702498183, 215.83583594275547, 199.44984917169768, 912.2114659693613, 176.05809268517953, 175.15248437355285, 183.71074421102557, 222.7862940417556, 168.70166642662704, 168.9687842601315, 167.9107084381811, 175.5669187879782, 654.6219153274955, 437.1482898718168, 512.1888650161494, 325.3555150172152, 347.393850755151, 252.3389928990608, 326.53745664331433, 249.47670571784488, 272.10442016337845, 857.6230025360267, 338.3360444188658, 489.0879393690411, 450.24247687207236, 420.3159141933837, 511.57412500523736, 354.5037067058532, 352.4377532103145, 294.23749554102153, 359.20558744866895, 302.46766927151265, 273.42714137272, 215.0076188175484, 221.27234866235315, 193.77185902713333, 177.52380810443486, 155.9936625284452, 145.28710328892777, 104.6045313440949, 66.33445468534288, 61.882807857417504, 33.751234268561184, 31.98026810876973, 31.781569709452466, 29.687108491464826, 29.096793298741336, 28.324063199174628, 65.86002087933905, 28.70468426156641, 28.134130855264445, 27.474429872775055, 26.57411087441498, 26.5527694485824, 28.24873275121249, 26.122232809882195, 30.22925926079921, 25.93085632223248, 22.952994198339365, 23.981673906279966, 25.56923381115047, 21.379259997369566, 21.271753615258167, 172.2338924351671, 25.940514247882504, 102.51121583634242, 551.8607116011976, 53.60929122227031, 221.3829817357201, 105.13701218183367, 69.97654403320833, 133.7819085495563, 119.97461833909969, 119.45029468381367, 96.92187188435729, 157.4072357002683, 163.43884438464835, 35.06897598278003, 82.20743986818206, 108.14350677079543, 54.80857541687546, 102.6328257742379, 71.72942580868903, 110.42039661670695, 50.205135703871306, 119.10353553335733, 80.33329804236273, 83.91723745038827, 107.02563660829034, 142.01533904755337, 97.09263073317926, 87.93625860508287, 74.02160779899685, 77.79786873410262, 546.645381181759, 243.75543940446602, 197.9455088423625, 155.36186474024834, 155.62597650280424, 115.75349178660349, 107.8500867450695, 105.96191804332241, 104.30284022395392, 104.30284022395392, 251.6641921635063, 56.58063378912254, 51.581870008041015, 52.90707927357251, 47.5445736913144, 253.1670584252419, 39.74381814794549, 40.229460017675486, 40.08869135855566, 37.755773849120764, 33.316019347842875, 30.88869522227217, 27.402510904111136, 26.171684002028357, 21.149657346635856, 20.65314117832588, 21.46697950469657, 19.609325230704375, 106.82845442718288, 18.801945698067904, 21.241299156441894, 36.15135249172564, 126.3074851280102, 117.4158073397003, 742.7585752607735, 467.56639053721653, 70.85044801652869, 106.7025344757421, 50.579618618735886, 215.27160425633505, 134.83277757224923, 59.78371042755396, 65.2294027265767, 100.4531626946591, 74.4257063912487, 153.9583738639189, 241.69716235537578, 130.47515176426108, 116.10937571715858, 91.91299729005391, 116.90259622790552, 110.84797352426271, 118.51791007339595, 78.54913006305122, 81.08894421457921], \"Total\": [916.0, 547.0, 619.0, 602.0, 753.0, 326.0, 256.0, 253.0, 244.0, 342.0, 221.0, 215.0, 539.0, 198.0, 239.0, 363.0, 413.0, 194.0, 178.0, 195.0, 246.0, 566.0, 187.0, 185.0, 156.0, 155.0, 277.0, 179.0, 156.0, 433.0, 525.5841458215627, 504.11000227344596, 448.24224513432625, 345.82890849574943, 335.11428906144243, 358.90408362810524, 297.8452880813065, 281.52993627952037, 354.4824833242603, 271.9800724887375, 307.58350689764916, 253.09615970806317, 250.42786560183248, 277.2427665035169, 239.19614704591183, 240.66876642470584, 257.1648544134885, 267.2061080802943, 213.49888352514608, 216.403824589429, 199.98651307152846, 914.8813949391832, 176.58010497188303, 175.68243091579913, 184.28091779833042, 223.4782910818636, 169.2288282680962, 169.50128414240814, 168.46203221316992, 176.14824537197995, 659.0646372849525, 441.385631839749, 518.8062154515013, 329.70092710194507, 352.8067759442756, 254.60589311529023, 332.153012220409, 252.03376953643547, 276.30247840612213, 937.9215710686801, 350.60067493994046, 533.6539546230512, 515.9269650980214, 539.1056965996826, 753.5536867102712, 432.50154297404833, 433.845138971564, 329.5549431040276, 566.3863991395945, 413.5870881404397, 294.4184242002968, 215.5987593363163, 221.89682221708492, 194.35936024348754, 178.1013175490568, 156.61292919302383, 145.91367764980444, 105.24858241376023, 66.94535672214639, 62.457408378398846, 34.333328375840566, 32.55212022283128, 32.36420694392391, 30.266017339084723, 29.676776606526477, 28.897196091179644, 67.19325448728873, 29.289696887372546, 28.71064507588643, 28.046761921322705, 27.161990687894065, 27.147144665067298, 28.9241081314328, 26.754765004444838, 30.962965111085648, 26.56958967999755, 23.532432393522917, 24.598349324978294, 26.2571843753076, 21.957337415316555, 21.864495127466697, 179.59281726499358, 26.669746777446036, 107.79270852892145, 602.2469794545158, 55.86375112909393, 239.4850958372518, 112.60075733598241, 74.50883280706837, 151.9965289450847, 135.23259124052026, 135.258141444467, 108.8460843200328, 185.47239757541792, 195.71232237029793, 36.53317535000883, 96.68258843137541, 136.42178169606214, 62.25980008418863, 130.75716155909913, 88.11026296408156, 159.50523394298548, 58.15744553590892, 187.7402692010964, 114.12991184691654, 125.70627085285518, 199.10048760733295, 566.3863991395945, 237.81334068772858, 299.2918461082161, 112.42483839484612, 173.04791604873031, 547.2076368797148, 244.3689192868496, 198.51914443765907, 155.92572842272105, 156.21622834432316, 116.35691323207662, 108.41559735369047, 106.53095451603602, 104.86434505323395, 104.86434505323395, 253.96221131476977, 57.14195688907774, 52.146557567166205, 53.519660429057495, 48.09770414652593, 256.39292636716397, 40.29639082917602, 40.79523413516218, 40.670125653343426, 38.37800788322483, 33.888187855510616, 31.470207210216323, 27.96611515883883, 26.858989426421388, 21.709098982770882, 21.206137703930597, 22.053275219187665, 20.19036009875607, 110.01813461081765, 19.36796537125587, 21.88174747230211, 37.45602746314527, 134.72511168216823, 130.7993361226562, 916.6850121041374, 619.1894349880403, 81.69697730533505, 130.1039669078903, 56.86764141647774, 326.80840671580324, 187.4120740027223, 69.77305222687058, 82.75174252028049, 159.26181024654733, 102.8656350838306, 342.33435662661816, 753.5536867102712, 277.87843643505755, 246.731674905715, 173.96106413614007, 363.09663875644975, 413.5870881404397, 539.1056965996826, 181.36563914675344, 433.845138971564], \"Category\": [\"Default\", \"Default\", \"Default\", \"Default\", \"Default\", \"Default\", \"Default\", \"Default\", \"Default\", \"Default\", \"Default\", \"Default\", \"Default\", \"Default\", \"Default\", \"Default\", \"Default\", \"Default\", \"Default\", \"Default\", \"Default\", \"Default\", \"Default\", \"Default\", \"Default\", \"Default\", \"Default\", \"Default\", \"Default\", \"Default\", \"Topic1\", \"Topic1\", \"Topic1\", \"Topic1\", \"Topic1\", \"Topic1\", \"Topic1\", \"Topic1\", \"Topic1\", \"Topic1\", \"Topic1\", \"Topic1\", \"Topic1\", \"Topic1\", \"Topic1\", \"Topic1\", \"Topic1\", \"Topic1\", \"Topic1\", \"Topic1\", \"Topic1\", \"Topic1\", \"Topic1\", \"Topic1\", \"Topic1\", \"Topic1\", \"Topic1\", \"Topic1\", \"Topic1\", \"Topic1\", \"Topic1\", \"Topic1\", \"Topic1\", \"Topic1\", \"Topic1\", \"Topic1\", \"Topic1\", \"Topic1\", \"Topic1\", \"Topic1\", \"Topic1\", \"Topic1\", \"Topic1\", \"Topic1\", \"Topic1\", \"Topic1\", \"Topic1\", \"Topic1\", \"Topic1\", \"Topic1\", \"Topic1\", \"Topic2\", \"Topic2\", \"Topic2\", \"Topic2\", \"Topic2\", \"Topic2\", \"Topic2\", \"Topic2\", \"Topic2\", \"Topic2\", \"Topic2\", \"Topic2\", \"Topic2\", \"Topic2\", \"Topic2\", \"Topic2\", \"Topic2\", \"Topic2\", \"Topic2\", \"Topic2\", \"Topic2\", \"Topic2\", \"Topic2\", \"Topic2\", \"Topic2\", \"Topic2\", \"Topic2\", \"Topic2\", \"Topic2\", \"Topic2\", \"Topic2\", \"Topic2\", \"Topic2\", \"Topic2\", \"Topic2\", \"Topic2\", \"Topic2\", \"Topic2\", \"Topic2\", \"Topic2\", \"Topic2\", \"Topic2\", \"Topic2\", \"Topic2\", \"Topic2\", \"Topic2\", \"Topic2\", \"Topic2\", \"Topic2\", \"Topic2\", \"Topic2\", \"Topic2\", \"Topic2\", \"Topic2\", \"Topic2\", \"Topic2\", \"Topic2\", \"Topic2\", \"Topic2\", \"Topic2\", \"Topic2\", \"Topic3\", \"Topic3\", \"Topic3\", \"Topic3\", \"Topic3\", \"Topic3\", \"Topic3\", \"Topic3\", \"Topic3\", \"Topic3\", \"Topic3\", \"Topic3\", \"Topic3\", \"Topic3\", \"Topic3\", \"Topic3\", \"Topic3\", \"Topic3\", \"Topic3\", \"Topic3\", \"Topic3\", \"Topic3\", \"Topic3\", \"Topic3\", \"Topic3\", \"Topic3\", \"Topic3\", \"Topic3\", \"Topic3\", \"Topic3\", \"Topic3\", \"Topic3\", \"Topic3\", \"Topic3\", \"Topic3\", \"Topic3\", \"Topic3\", \"Topic3\", \"Topic3\", \"Topic3\", \"Topic3\", \"Topic3\", \"Topic3\", \"Topic3\", \"Topic3\", \"Topic3\", \"Topic3\", \"Topic3\", \"Topic3\", \"Topic3\", \"Topic3\", \"Topic3\", \"Topic3\", \"Topic3\", \"Topic3\"], \"logprob\": [30.0, 29.0, 28.0, 27.0, 26.0, 25.0, 24.0, 23.0, 22.0, 21.0, 20.0, 19.0, 18.0, 17.0, 16.0, 15.0, 14.0, 13.0, 12.0, 11.0, 10.0, 9.0, 8.0, 7.0, 6.0, 5.0, 4.0, 3.0, 2.0, 1.0, -5.7251, -5.7669, -5.8844, -6.1441, -6.1756, -6.1071, -6.2938, -6.3502, -6.1198, -6.3848, -6.2618, -6.4569, -6.4675, -6.3658, -6.5135, -6.5074, -6.4411, -6.4029, -6.6275, -6.614, -6.6929, -5.1726, -6.8177, -6.8229, -6.7751, -6.5823, -6.8604, -6.8588, -6.8651, -6.8205, -5.5044, -5.9082, -5.7498, -6.2036, -6.138, -6.4577, -6.2, -6.4691, -6.3823, -5.2343, -6.1645, -5.796, -5.8787, -5.9475, -5.751, -6.1178, -6.1236, -6.3041, -6.1046, -6.2765, -6.3775, -4.9203, -4.8916, -5.0243, -5.1119, -5.2412, -5.3123, -5.6408, -6.0963, -6.1657, -6.772, -6.8259, -6.8321, -6.9003, -6.9204, -6.9473, -6.1035, -6.9339, -6.954, -6.9777, -7.011, -7.0119, -6.9499, -7.0282, -6.8822, -7.0356, -7.1575, -7.1137, -7.0496, -7.2286, -7.2336, -5.1421, -7.0352, -5.661, -3.9777, -6.3093, -4.8911, -5.6357, -6.0428, -5.3948, -5.5037, -5.5081, -5.7171, -5.2321, -5.1945, -6.7337, -5.8817, -5.6075, -6.2871, -5.6598, -6.0181, -5.5867, -6.3749, -5.511, -5.9048, -5.8612, -5.6179, -5.3351, -5.7153, -5.8144, -5.9866, -5.9369, -3.8636, -4.6713, -4.8794, -5.1217, -5.12, -5.416, -5.4867, -5.5044, -5.5201, -5.5201, -4.6393, -6.1318, -6.2243, -6.1989, -6.3058, -4.6334, -6.485, -6.4728, -6.4763, -6.5363, -6.6614, -6.737, -6.8568, -6.9028, -7.1158, -7.1396, -7.1009, -7.1914, -5.4962, -7.2335, -7.1115, -6.5797, -5.3287, -5.4017, -3.5571, -4.0199, -5.9069, -5.4974, -6.2439, -4.7955, -5.2634, -6.0767, -5.9895, -5.5577, -5.8576, -5.1308, -4.6797, -5.2962, -5.4129, -5.6466, -5.4061, -5.4593, -5.3924, -5.8037, -5.7719], \"loglift\": [30.0, 29.0, 28.0, 27.0, 26.0, 25.0, 24.0, 23.0, 22.0, 21.0, 20.0, 19.0, 18.0, 17.0, 16.0, 15.0, 14.0, 13.0, 12.0, 11.0, 10.0, 9.0, 8.0, 7.0, 6.0, 5.0, 4.0, 3.0, 2.0, 1.0, 0.2953, 0.2952, 0.2952, 0.2948, 0.2948, 0.2948, 0.2946, 0.2945, 0.2944, 0.2944, 0.2944, 0.2942, 0.2942, 0.2942, 0.2942, 0.2941, 0.2941, 0.294, 0.2938, 0.2938, 0.2937, 0.2935, 0.2934, 0.2934, 0.2933, 0.2933, 0.2933, 0.2932, 0.2931, 0.2931, 0.2896, 0.2867, 0.2835, 0.2831, 0.2809, 0.2874, 0.2793, 0.2862, 0.2811, 0.2069, 0.2608, 0.2092, 0.1602, 0.0475, -0.0909, 0.0975, 0.0886, 0.183, -0.159, -0.0165, 0.2224, 1.9912, 1.9911, 1.9909, 1.9907, 1.9899, 1.9896, 1.9878, 1.9847, 1.9847, 1.9768, 1.9762, 1.9757, 1.9746, 1.9742, 1.9739, 1.9739, 1.9737, 1.9736, 1.9733, 1.972, 1.9718, 1.9703, 1.97, 1.9699, 1.9696, 1.969, 1.9685, 1.9674, 1.9672, 1.9664, 1.9521, 1.9662, 1.9437, 1.9065, 1.9527, 1.9153, 1.9253, 1.9312, 1.8663, 1.8742, 1.8696, 1.8779, 1.8298, 1.8137, 1.953, 1.8317, 1.7616, 1.8664, 1.7517, 1.7882, 1.6261, 1.8469, 1.5388, 1.6428, 1.5898, 1.3732, 0.6106, 1.0981, 0.7691, 1.576, 1.1945, 2.1164, 2.1149, 2.1146, 2.1138, 2.1137, 2.1123, 2.1122, 2.1121, 2.1121, 2.1121, 2.1084, 2.1076, 2.1066, 2.1059, 2.1059, 2.1048, 2.1037, 2.1035, 2.1031, 2.1011, 2.1004, 2.0988, 2.0971, 2.0915, 2.0914, 2.091, 2.0905, 2.0883, 2.088, 2.0878, 2.0878, 2.082, 2.0529, 2.0095, 1.9071, 1.8366, 1.975, 1.9192, 2.0003, 1.7, 1.7882, 1.9629, 1.8795, 1.6566, 1.7938, 1.3184, 0.9803, 1.3615, 1.3637, 1.4795, 0.9841, 0.8008, 0.6026, 1.2807, 0.4403]}, \"token.table\": {\"Topic\": [2, 1, 2, 1, 1, 1, 3, 1, 3, 1, 3, 1, 1, 3, 2, 1, 2, 3, 3, 3, 3, 1, 3, 1, 2, 1, 3, 1, 3, 1, 1, 3, 2, 1, 2, 3, 1, 3, 1, 2, 3, 3, 1, 2, 1, 1, 1, 3, 1, 2, 3, 1, 2, 2, 1, 1, 3, 3, 2, 2, 3, 1, 2, 1, 3, 2, 1, 1, 2, 1, 2, 1, 3, 3, 1, 1, 3, 2, 1, 2, 3, 1, 3, 1, 2, 3, 1, 2, 3, 1, 2, 3, 1, 3, 2, 3, 2, 2, 2, 3, 1, 1, 3, 1, 2, 3, 1, 2, 3, 2, 2, 2, 3, 3, 2, 1, 1, 3, 3, 1, 2, 1, 2, 3, 2, 1, 1, 3, 1, 2, 3, 1, 2, 1, 2, 1, 3, 2, 3, 1, 3, 1, 3, 1, 1, 2, 3, 1, 3, 2, 3, 1, 3, 1, 1, 3, 1, 1, 2, 3, 3, 1, 3, 1, 3, 2, 2, 2, 1, 3, 1, 1, 3, 1, 3, 2, 1, 2, 3, 1, 2, 3, 1, 2, 1, 3, 1, 3, 2, 3, 1, 1, 2, 3, 1, 2, 1, 3, 2, 2, 3, 3, 1, 2, 1, 2, 3, 3, 1, 3, 1, 3, 1, 3, 1, 3, 1, 2, 1, 2, 3, 3, 3, 1, 3, 1, 2, 3, 1, 2, 3, 2, 1, 2, 3, 2, 1, 3, 3, 1, 2, 2, 3, 3, 3, 1, 1, 3, 3, 1, 3, 2, 1, 3, 2], \"Freq\": [0.9960863435976707, 0.18159065087029025, 0.8171579289163061, 0.9996589549739507, 0.9974809881822296, 0.5268881672759593, 0.47014636464624066, 0.05938016974053734, 0.9352376734134631, 0.5679135280782527, 0.43558416231244623, 0.9971619894115105, 0.011700790823315817, 0.9867666927663006, 0.9773745278592848, 0.23126562040218965, 0.6582175349908475, 0.10673797864716446, 0.9673363236616292, 0.9940630168472815, 0.9522395105162769, 0.1346439043746808, 0.8690652009638488, 0.05368491022208759, 0.9394859288865328, 0.2721997485086378, 0.7193850496299714, 0.14332180807404696, 0.8599308484442818, 0.9991799740575495, 0.9991243540577142, 0.9654540806489712, 0.9937382316413319, 0.998133930441409, 0.9228131680903691, 0.07516125350962283, 0.9897649929331752, 0.007855277721691867, 0.9163241380744706, 0.07870268670578275, 0.005621620478984482, 0.9961666276455163, 0.9970425938367111, 0.975248028248474, 0.9976632967961758, 0.9981029317744162, 0.2774634466680341, 0.7203377942343193, 0.06877881177793868, 0.8597351472242336, 0.06877881177793868, 0.9982914616917561, 0.9887466130545094, 0.9688994543116002, 0.9992286550566711, 0.99639652832, 0.9984903182944613, 0.996932599686924, 0.990205180737145, 0.9830388859757272, 0.9986158394258082, 0.11089905450281941, 0.8797991657223673, 0.9879628450504253, 0.007935444538557632, 0.9901092562177576, 0.9978597872771079, 0.16350528986853638, 0.8328550702678572, 0.11243209889100986, 0.8833950627150774, 0.3704591823279183, 0.6278969191998615, 0.9917574934283415, 0.9972573510654005, 0.7790680058643018, 0.2207359349948855, 0.9981510525500941, 0.06475748543450427, 0.9165674861499067, 0.018264931789219153, 0.9938327182873945, 0.00606920743992302, 0.16825082265231434, 0.7877197605994716, 0.04588658799608573, 0.9986389078531169, 0.958033339962373, 0.027372381141782087, 0.5886969990629468, 0.4078829207793274, 0.004204978564735334, 0.6794472763250582, 0.3211450017005158, 0.7916624358463239, 0.20524581670089878, 0.9689521402578745, 0.9959583818816137, 0.9940361260794386, 0.9850586554109604, 0.9994595664800544, 0.9857418444550157, 0.012132207316369424, 0.05328560963490656, 0.9324981686108649, 0.017761869878302187, 0.03697333574794232, 0.8873600579506158, 0.07394667149588464, 0.9771950769620431, 0.9564001136745863, 0.9717895109779717, 0.9979686318035415, 0.9835229018209749, 0.9926764752128742, 0.9950671019941448, 0.9844283756304272, 0.014476887876918048, 0.9737906358611564, 0.32615715764882036, 0.6682244205488027, 0.9991584056277887, 0.9555377298304408, 0.0463853266907981, 0.9748873964558065, 0.9967147772849303, 0.24386721004520465, 0.7558268496765284, 0.08792346359824975, 0.01758469271964995, 0.8968193287021474, 0.2979061268846374, 0.7009555926697351, 0.4620782254508733, 0.537417066556994, 0.9835412006225391, 0.014172063409546673, 0.9577220437842444, 0.03897705992145181, 0.026697972735735168, 0.961127018486466, 0.6775055832037229, 0.3222282651822585, 0.9984756001777794, 0.34089649637951114, 0.6338544229556535, 0.026632538779649308, 0.820806320270865, 0.18034617741162667, 0.9604612353303005, 0.9901504037318711, 0.9968505262484054, 0.0021860757154570296, 0.9981176556691498, 0.18981438302411474, 0.8105292332581452, 0.9972212163853216, 0.045936425101879064, 0.8911666469764539, 0.0643109951426307, 0.9975157153026225, 0.9844860289359967, 0.01505330319474001, 0.20543374051408891, 0.7854819490244577, 0.9945797369527174, 0.9976381400294496, 0.9972228071341436, 0.9868810063395673, 0.011565011793041804, 0.9988885779257104, 0.9961155426171999, 0.9680185500361234, 0.9996200665068404, 0.9926447301339597, 0.9912106923053534, 0.9147886416796913, 0.029853242385817432, 0.05544173585937524, 0.44263960017187626, 0.08636870247256122, 0.46783047172637326, 0.1509658599663838, 0.8464871433829376, 0.3396485455055231, 0.6578778133665537, 0.17678169656643372, 0.8224191970699308, 0.9756752245009098, 0.9917574934283415, 0.9986478174526288, 0.2758530169344012, 0.689632542336003, 0.03134693374254559, 0.9640597527597486, 0.03422697347076031, 0.9993589543413135, 0.9973849149958326, 0.9902914051270625, 0.007875187373924418, 0.9922736091144767, 0.9805066902538805, 0.1448037358860856, 0.8481361673327871, 0.6338429039704377, 0.2507122349966634, 0.11476264278016282, 0.999620551933634, 0.872216477218833, 0.12598682448716478, 0.027268231829346266, 0.9725669352466835, 0.8921122445649244, 0.10620383863868148, 0.09938888365464896, 0.8944999528918406, 0.548980895980556, 0.45074220933140385, 0.6715852857792981, 0.29402738879889667, 0.036753423599862084, 0.9902902891219513, 0.9597039736694601, 0.5491707050748937, 0.4498525988379448, 0.03289548803977271, 0.8815990794659087, 0.09210736651136359, 0.9997817891473094, 0.9785623456418541, 0.9971895063834764, 0.9994311240902027, 0.9272517531520869, 0.061137478229807925, 0.010189579704967987, 0.9626779760081002, 0.47136984593189013, 0.5288539734845596, 0.9810013409151397, 0.0358013910555032, 0.9666375584985863, 0.9822414541996256, 0.014882446275751905, 0.9950159602113009, 0.9902793376706033, 0.9976031254895522, 0.7301968766913037, 0.26838362024084345, 0.9905717333507192, 0.8113494156795693, 0.18670256440353727, 0.9858786812344574, 0.9900639451686065, 0.009062370207492966, 0.9680505920101806], \"Term\": [\"abedin\", \"add\", \"add\", \"administration\", \"afghanistan\", \"agreement\", \"agreement\", \"airport\", \"airport\", \"ambassador\", \"ambassador\", \"americans\", \"arrive\", \"arrive\", \"asap\", \"assistant\", \"assistant\", \"assistant\", \"astoria\", \"benghazi\", \"bilat\", \"bilateral\", \"bilateral\", \"blackberry\", \"blackberry\", \"briefing\", \"briefing\", \"camera\", \"camera\", \"campaign\", \"care\", \"cb\", \"cdm\", \"change\", \"cheryl\", \"cheryl\", \"china\", \"china\", \"clinton\", \"clinton\", \"clinton\", \"comm\", \"conservative\", \"copying\", \"countries\", \"country\", \"daily\", \"daily\", \"dan\", \"dan\", \"dan\", \"deal\", \"declassify\", \"dem\", \"democratic\", \"democrats\", \"depart\", \"dept\", \"disapprove\", \"dkna\", \"doc\", \"draft\", \"draft\", \"economic\", \"economic\", \"edits\", \"efforts\", \"email\", \"email\", \"favorable\", \"favorable\", \"floor\", \"floor\", \"foia\", \"forces\", \"foreign\", \"foreign\", \"fw\", \"fyi\", \"fyi\", \"fyi\", \"government\", \"government\", \"happy\", \"happy\", \"happy\", \"health\", \"hikers\", \"hikers\", \"hillary\", \"hillary\", \"hillary\", \"house\", \"house\", \"hrc\", \"hrc\", \"hrd\", \"huma\", \"ind\", \"ingo\", \"israel\", \"israeli\", \"israeli\", \"jacob\", \"jacob\", \"jacob\", \"jake\", \"jake\", \"jake\", \"jiloty\", \"joanne\", \"kurdistan\", \"laguardia\", \"latrines\", \"lauren\", \"leader\", \"leaders\", \"leaders\", \"libyan\", \"list\", \"list\", \"local\", \"lona\", \"lona\", \"madame\", \"mcchrystal\", \"meeting\", \"meeting\", \"melanne\", \"melanne\", \"melanne\", \"memo\", \"memo\", \"message\", \"message\", \"military\", \"military\", \"mills\", \"mills\", \"min\", \"min\", \"minister\", \"minister\", \"months\", \"morning\", \"morning\", \"morning\", \"national\", \"national\", \"noon\", \"nw\", \"obama\", \"obama\", \"obamas\", \"office\", \"office\", \"officials\", \"ops\", \"ops\", \"ops\", \"outer\", \"peace\", \"peace\", \"photo\", \"photo\", \"pir\", \"pis\", \"pls\", \"policy\", \"policy\", \"political\", \"politics\", \"postconflict\", \"power\", \"preceding\", \"preines\", \"president\", \"president\", \"president\", \"press\", \"press\", \"press\", \"print\", \"print\", \"private\", \"private\", \"produced\", \"produced\", \"readout\", \"redactions\", \"reform\", \"release\", \"release\", \"release\", \"republican\", \"republican\", \"republicans\", \"residence\", \"richards\", \"route\", \"route\", \"scb\", \"schedule\", \"schedule\", \"secretary\", \"secretary\", \"secretary\", \"secretarys\", \"security\", \"security\", \"select\", \"select\", \"senate\", \"senate\", \"sensitive\", \"sensitive\", \"sid\", \"sid\", \"speech\", \"speech\", \"speech\", \"spray\", \"sri\", \"staff\", \"staff\", \"sullivan\", \"sullivan\", \"sullivan\", \"support\", \"taab\", \"tbd\", \"thx\", \"times\", \"times\", \"times\", \"tot\", \"treaty\", \"treaty\", \"tripoli\", \"unfavorable\", \"unfavorable\", \"valmoro\", \"valmoro\", \"waiver\", \"waldorf\", \"war\", \"washington\", \"washington\", \"wfp\", \"white\", \"white\", \"wjc\", \"women\", \"women\", \"worn\"]}, \"R\": 30, \"lambda.step\": 0.01, \"plot.opts\": {\"xlab\": \"PC1\", \"ylab\": \"PC2\"}, \"topic.order\": [3, 1, 2]};\n",
       "\n",
       "function LDAvis_load_lib(url, callback){\n",
       "  var s = document.createElement('script');\n",
       "  s.src = url;\n",
       "  s.async = true;\n",
       "  s.onreadystatechange = s.onload = callback;\n",
       "  s.onerror = function(){console.warn(\"failed to load library \" + url);};\n",
       "  document.getElementsByTagName(\"head\")[0].appendChild(s);\n",
       "}\n",
       "\n",
       "if(typeof(LDAvis) !== \"undefined\"){\n",
       "   // already loaded: just create the visualization\n",
       "   !function(LDAvis){\n",
       "       new LDAvis(\"#\" + \"ldavis_el1531222814490842249078909429\", ldavis_el1531222814490842249078909429_data);\n",
       "   }(LDAvis);\n",
       "}else if(typeof define === \"function\" && define.amd){\n",
       "   // require.js is available: use it to load d3/LDAvis\n",
       "   require.config({paths: {d3: \"https://d3js.org/d3.v5\"}});\n",
       "   require([\"d3\"], function(d3){\n",
       "      window.d3 = d3;\n",
       "      LDAvis_load_lib(\"https://cdn.jsdelivr.net/gh/bmabey/pyLDAvis@3.4.0/pyLDAvis/js/ldavis.v3.0.0.js\", function(){\n",
       "        new LDAvis(\"#\" + \"ldavis_el1531222814490842249078909429\", ldavis_el1531222814490842249078909429_data);\n",
       "      });\n",
       "    });\n",
       "}else{\n",
       "    // require.js not available: dynamically load d3 & LDAvis\n",
       "    LDAvis_load_lib(\"https://d3js.org/d3.v5.js\", function(){\n",
       "         LDAvis_load_lib(\"https://cdn.jsdelivr.net/gh/bmabey/pyLDAvis@3.4.0/pyLDAvis/js/ldavis.v3.0.0.js\", function(){\n",
       "                 new LDAvis(\"#\" + \"ldavis_el1531222814490842249078909429\", ldavis_el1531222814490842249078909429_data);\n",
       "            })\n",
       "         });\n",
       "}\n",
       "</script>"
      ],
      "text/plain": [
       "PreparedData(topic_coordinates=              x         y  topics  cluster       Freq\n",
       "topic                                                \n",
       "2      0.051240 -0.187103       1        1  74.350089\n",
       "0     -0.200769  0.052499       2        1  13.616231\n",
       "1      0.149529  0.134604       3        1  12.033680, topic_info=            Term        Freq       Total Category  logprob  loglift\n",
       "862       office  916.000000  916.000000  Default  30.0000  30.0000\n",
       "272   secretarys  547.000000  547.000000  Default  29.0000  29.0000\n",
       "858      meeting  619.000000  619.000000  Default  28.0000  28.0000\n",
       "46           fyi  602.000000  602.000000  Default  27.0000  27.0000\n",
       "29         house  753.000000  753.000000  Default  26.0000  26.0000\n",
       "...          ...         ...         ...      ...      ...      ...\n",
       "530     minister  116.902596  363.096639   Topic3  -5.4061   0.9841\n",
       "1102  washington  110.847974  413.587088   Topic3  -5.4593   0.8008\n",
       "158      foreign  118.517910  539.105697   Topic3  -5.3924   0.6026\n",
       "60    ambassador   78.549130  181.365639   Topic3  -5.8037   1.2807\n",
       "895        white   81.088944  433.845139   Topic3  -5.7719   0.4403\n",
       "\n",
       "[197 rows x 6 columns], token_table=      Topic      Freq            Term\n",
       "term                                 \n",
       "11        2  0.996086          abedin\n",
       "626       1  0.181591             add\n",
       "626       2  0.817158             add\n",
       "909       1  0.999659  administration\n",
       "57        1  0.997481     afghanistan\n",
       "...     ...       ...             ...\n",
       "895       3  0.186703           white\n",
       "3728      2  0.985879             wjc\n",
       "2280      1  0.990064           women\n",
       "2280      3  0.009062           women\n",
       "8789      2  0.968051            worn\n",
       "\n",
       "[255 rows x 3 columns], R=30, lambda_step=0.01, plot_opts={'xlab': 'PC1', 'ylab': 'PC2'}, topic_order=[3, 1, 2])"
      ]
     },
     "execution_count": 10,
     "metadata": {},
     "output_type": "execute_result"
    }
   ],
   "source": [
    "#用pyLDAvis来确定话题数\n",
    "pyLDAvis.enable_notebook()\n",
    "vis = pyLDAvis.gensim_models.prepare(LDA, corpus, dictionary)\n",
    "pyLDAvis.save_html(vis, 'lda_1.html')#//将结果用HTML保存\n",
    "vis"
   ]
  },
  {
   "cell_type": "code",
   "execution_count": 11,
   "id": "df12a8ff-4fe3-4159-a654-b049dacd77f8",
   "metadata": {},
   "outputs": [],
   "source": [
    "#困惑度计算\n",
    "def perplexity(ldamodel, testset, dictionary, size_dictionary, num_topics):\n",
    "    prep = 0.0\n",
    "    prob_doc_sum = 0.0\n",
    "    topic_word_list = [] \n",
    "    for topic_id in range(num_topics):\n",
    "        topic_word = ldamodel.show_topic(topic_id, size_dictionary)\n",
    "        dic = {}\n",
    "        for word, probability in topic_word:\n",
    "            dic[word] = probability\n",
    "        topic_word_list.append(dic)\n",
    "    doc_topics_ist = [] \n",
    "    for doc in testset:\n",
    "        doc_topics_ist.append(ldamodel.get_document_topics(doc, minimum_probability=0))\n",
    "    testset_word_num = 0\n",
    "    for i in range(len(testset)):\n",
    "        prob_doc = 0.0 \n",
    "        doc = testset[i]\n",
    "        doc_word_num = 0 \n",
    "        for word_id, num in dict(doc).items():\n",
    "            prob_word = 0.0 \n",
    "            doc_word_num += num\n",
    "            word = dictionary[word_id]\n",
    "            for topic_id in range(num_topics):\n",
    "                prob_topic = doc_topics_ist[i][topic_id][1]\n",
    "                prob_topic_word = topic_word_list[topic_id][word]\n",
    "                prob_word += prob_topic*prob_topic_word\n",
    "            prob_doc += math.log(prob_word) \n",
    "        prob_doc_sum += prob_doc\n",
    "        testset_word_num += doc_word_num\n",
    "    prep = math.exp(-prob_doc_sum/testset_word_num)\n",
    "    return prep"
   ]
  },
  {
   "cell_type": "code",
   "execution_count": null,
   "id": "84da07a4-2fa1-4a5b-8c06-8c07f803178a",
   "metadata": {},
   "outputs": [],
   "source": [
    "#topic个数hepreplexity的关系图（通过曲线的下降速度来确定合适的topic数）\n",
    "topic=[]\n",
    "prep_value=[]\n",
    "\n",
    "for i in range(1,20,1): #话题数从1到20\n",
    "    topic.append(str(i))\n",
    "    ldamodel=gensim.models.ldamodel.LdaModel(corpus,id2word=dictionary,num_topics=i,random_state=100,\n",
    "               chunksize=1000, passes=50,iterations=100)\n",
    "    testset=[]\n",
    "    num_topics=i\n",
    "    for j in range(int(6740/20)):\n",
    "        testset.append(corpus[j*20])\n",
    "    dictionary=corpora.Dictionary(texts)\n",
    "    size_dictionary=len(dictionary.keys())\n",
    "    prep=perplexity(ldamodel, testset, dictionary,size_dictionary,num_topics)\n",
    "    prep_value.append(prep)\n",
    "    \n",
    "plt.plot(topic,prep_value,linewidth=2,color=\"red\")\n",
    "plt.xlabel(\"Number of topic\")\n",
    "plt.ylabel(\"Preplexity\")\n",
    "#plt.savefig('./picture4-5.jpg', dpi=300)\n",
    "plt.show()"
   ]
  },
  {
   "cell_type": "code",
   "execution_count": 13,
   "id": "d6274dc0-c772-4da2-84c4-c421628161c1",
   "metadata": {},
   "outputs": [
    {
     "name": "stdout",
     "output_type": "stream",
     "text": [
      "第一封邮件的大致内容为：\n",
      " ['march', 'syria', 'aiding', 'qaddafi', 'sid', 'hrc', 'memo', 'syria', 'aiding', 'libya', 'docx', 'hrc', 'memo', 'syria', 'aiding', 'libya', 'docx', 'march', 'hillary'] \n",
      "\n",
      "第一封邮件的主题分布为：\n",
      " [(0, 0.9624864), (1, 0.02039479), (2, 0.017118836)] \n",
      "\n"
     ]
    }
   ],
   "source": [
    "\"\"\"第四步：查看某封邮件所属的主题\"\"\"\n",
    "print(\"第一封邮件的大致内容为：\\n\",texts[0],'\\n')\n",
    "topic = LDA.get_document_topics(corpus[0])\n",
    "print(\"第一封邮件的主题分布为：\\n\",topic,'\\n')"
   ]
  },
  {
   "cell_type": "code",
   "execution_count": 14,
   "id": "b885261a-833c-4f4e-a23e-ea3044657eb2",
   "metadata": {},
   "outputs": [
    {
     "name": "stdout",
     "output_type": "stream",
     "text": [
      "这两条推特的主题分布分别为：\n",
      " [(0, 0.17469877), (1, 0.041711666), (2, 0.78358954)] \n",
      " [(0, 0.6086528), (1, 0.045040857), (2, 0.34630635)]\n"
     ]
    }
   ],
   "source": [
    "# 希拉里发的两条推特\n",
    "# 给大伙翻译一下这两句：\n",
    "# 这是选举的一天!数以百万计的美国人投了希拉里的票。加入他们吧，确定你投给谁。\n",
    "# 希望今天每个人都能度过一个安乐的感恩节，和家人朋友共度美好时光——来自希拉里的问候。\n",
    "twitter = [\"It's Election Day! Millions of Americans have cast their votes for Hillary—join them and confirm where you vote \",\n",
    "       \"Hoping everyone has a safe & Happy Thanksgiving today, & quality time with family & friends. -H\"]\n",
    "\n",
    "text_twitter = [clean_email_text(s) for s in twitter]\n",
    "text_twitter = [[word for word in text.lower().split() if word not in stop_words] for text in text_twitter]\n",
    "corpus_twitter = [dictionary.doc2bow(text) for text in text_twitter]\n",
    "topics_twitter = LDA.get_document_topics(corpus_twitter)\n",
    "print(\"这两条推特的主题分布分别为：\\n\",topics_twitter[0] ,'\\n',topics_twitter[1])\n"
   ]
  },
  {
   "cell_type": "code",
   "execution_count": null,
   "id": "cbcc72e3-f41d-4908-87b4-9e1d7fa9f9e4",
   "metadata": {},
   "outputs": [],
   "source": []
  },
  {
   "cell_type": "code",
   "execution_count": null,
   "id": "f6dd4cb7-16d2-4bda-851f-d9f939380bc4",
   "metadata": {},
   "outputs": [],
   "source": []
  }
 ],
 "metadata": {
  "kernelspec": {
   "display_name": "Python 3 (ipykernel)",
   "language": "python",
   "name": "python3"
  },
  "language_info": {
   "codemirror_mode": {
    "name": "ipython",
    "version": 3
   },
   "file_extension": ".py",
   "mimetype": "text/x-python",
   "name": "python",
   "nbconvert_exporter": "python",
   "pygments_lexer": "ipython3",
   "version": "3.10.9"
  }
 },
 "nbformat": 4,
 "nbformat_minor": 5
}
